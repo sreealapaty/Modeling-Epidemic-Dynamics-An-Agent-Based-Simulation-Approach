{
 "cells": [
  {
   "cell_type": "code",
   "execution_count": null,
   "id": "4502a8cf-3b2d-45c3-8bbb-139a80fc0b5d",
   "metadata": {},
   "outputs": [],
   "source": []
  },
  {
   "cell_type": "code",
   "execution_count": 3,
   "id": "1db01c25-4c3b-4c25-941b-3e871334b9f7",
   "metadata": {},
   "outputs": [],
   "source": [
    "import numpy as np\n",
    "import plotly.graph_objects as go\n",
    "from mesa import Agent, Model\n",
    "from mesa.time import RandomActivation\n",
    "from mesa.space import MultiGrid\n",
    "from mesa.datacollection import DataCollector\n",
    "import ipywidgets as widgets\n",
    "from IPython.display import display"
   ]
  },
  {
   "cell_type": "code",
   "execution_count": 5,
   "id": "0aa386d7-c4ea-4f40-9a92-c479eaf2ee54",
   "metadata": {},
   "outputs": [],
   "source": [
    "class Person(Agent):\n",
    "    \"\"\"Agent representing a person in the epidemic simulation.\"\"\"\n",
    "    def __init__(self, unique_id, model, age_group):\n",
    "        super().__init__(unique_id, model)\n",
    "        self.age_group = age_group\n",
    "        self.state = \"Susceptible\"\n",
    "        self.is_vaccinated = False\n",
    "\n",
    "    def step(self):\n",
    "        if not self.is_vaccinated or np.random.random() > 0.95:\n",
    "            self.move()\n",
    "            self.contact()\n",
    "\n",
    "    def move(self):\n",
    "        if not self.model.social_distancing or np.random.random() > self.model.compliance_rate:\n",
    "            new_position = self.random.choice(self.model.grid.get_neighborhood(self.pos, moore=True, include_center=False))\n",
    "            self.model.grid.move_agent(self, new_position)\n",
    "\n",
    "    def contact(self):\n",
    "        if self.state == \"Infected\":\n",
    "            if np.random.random() < self.model.recovery_rate:\n",
    "                self.state = \"Recovered\"\n",
    "            else:\n",
    "                neighbors = self.model.grid.get_neighbors(self.pos, moore=True, include_center=False)\n",
    "                for neighbor in neighbors:\n",
    "                    if neighbor.state == \"Susceptible\" and np.random.random() < self.model.infection_rate:\n",
    "                        neighbor.state = \"Infected\""
   ]
  },
  {
   "cell_type": "code",
   "execution_count": 9,
   "id": "3cd8a2b6-835f-4fb8-a178-93ee082b6732",
   "metadata": {},
   "outputs": [],
   "source": [
    "class EpidemicModel(Model):\n",
    "    \"\"\"A model simulating an epidemic.\"\"\"\n",
    "    def __init__(self, N, width, height, infection_rate, recovery_rate, vaccination_start_day, compliance_rate):\n",
    "        self.num_agents = N\n",
    "        self.grid = MultiGrid(width, height, True)\n",
    "        self.schedule = RandomActivation(self)\n",
    "        self.infection_rate = infection_rate\n",
    "        self.recovery_rate = recovery_rate\n",
    "        self.vaccination_start_day = vaccination_start_day\n",
    "        self.compliance_rate = compliance_rate\n",
    "        self.day = 0\n",
    "        self.social_distancing = False\n",
    "        self.unvaccinated_agents = []\n",
    "\n",
    "        for i in range(self.num_agents):\n",
    "            age_group = np.random.choice(['young', 'adult', 'elderly'], p=[0.3, 0.5, 0.2])\n",
    "            a = Person(i, self, age_group)\n",
    "            self.schedule.add(a)\n",
    "            self.grid.place_agent(a, (np.random.randint(0, width), np.random.randint(0, height)))\n",
    "            self.unvaccinated_agents.append(a)\n",
    "            if i < 10:\n",
    "                a.state = \"Infected\"\n",
    "\n",
    "        self.datacollector = DataCollector(\n",
    "            model_reporters={\n",
    "                \"Susceptible\": lambda m: sum(agent.state == \"Susceptible\" for agent in m.schedule.agents),\n",
    "                \"Infected\": lambda m: sum(agent.state == \"Infected\" for agent in m.schedule.agents),\n",
    "                \"Recovered\": lambda m: sum(agent.state == \"Recovered\" for agent in m.schedule.agents),\n",
    "                \"Vaccinated\": lambda m: sum(agent.is_vaccinated for agent in m.schedule.agents)\n",
    "            }\n",
    "        )\n",
    "\n",
    "    def step(self):\n",
    "        self.day += 1\n",
    "        if self.day >= self.vaccination_start_day:\n",
    "            self.vaccinate_agents()\n",
    "        self.datacollector.collect(self)\n",
    "        self.schedule.step()\n",
    "    def vaccinate_agents(self):\n",
    "        vaccinated_today = 0\n",
    "        for agent in sorted(self.unvaccinated_agents, key=lambda x: x.age_group, reverse=True):\n",
    "            if not agent.is_vaccinated and np.random.random() < 0.5 and vaccinated_today < 10:\n",
    "                agent.is_vaccinated = True\n",
    "                vaccinated_today += 1\n",
    "        self.unvaccinated_agents = [agent for agent in self.unvaccinated_agents if not agent.is_vaccinated]\n"
   ]
  },
  {
   "cell_type": "code",
   "execution_count": 11,
   "id": "30bf429c-cd6d-4429-9b5c-fc7ff895a629",
   "metadata": {},
   "outputs": [],
   "source": [
    "def plot_results(data, vaccination_start_day):\n",
    "    fig = go.Figure()\n",
    "    fig.add_trace(go.Scatter(x=data.index, y=data['Susceptible'], mode='lines+markers', name='Susceptible', line=dict(color='blue', width=2)))\n",
    "    fig.add_trace(go.Scatter(x=data.index, y=data['Infected'], mode='lines+markers', name='Infected', line=dict(color='red', width=2, dash='dash')))\n",
    "    fig.add_trace(go.Scatter(x=data.index, y=data['Recovered'], mode='lines+markers', name='Recovered', line=dict(color='green', width=2)))\n",
    "    fig.add_trace(go.Scatter(x=data.index, y=data['Vaccinated'], mode='lines+markers', name='Vaccinated', line=dict(color='gold', width=2)))\n",
    "\n",
    "    fig.update_layout(title=\"Epidemic Model Simulation\", xaxis_title=\"Days\", yaxis_title=\"Number of Agents\", legend_title=\"Agent State\",\n",
    "                      hovermode=\"x\", plot_bgcolor='rgba(245, 246, 249, 1)', xaxis_showgrid=False, yaxis_gridcolor='gray')\n",
    "    \n",
    "    # Annotating key points\n",
    "    peak_infection_day = data['Infected'].idxmax()\n",
    "    peak_infection_value = data['Infected'].max()\n",
    "    fig.add_annotation(x=peak_infection_day, y=peak_infection_value, text=\"Peak Infection\", showarrow=True, arrowhead=1)\n",
    "    \n",
    "    fig.add_vline(x=vaccination_start_day, line=dict(color='purple', dash='dash'), annotation_text=\"Vaccination Starts\", annotation_position=\"bottom right\")\n",
    "    \n",
    "    fig.show()\n"
   ]
  },
  {
   "cell_type": "code",
   "execution_count": 13,
   "id": "78433d6f-4463-412d-b637-5de4ba1c34cd",
   "metadata": {},
   "outputs": [],
   "source": [
    "def interactive_model(infection_rate, recovery_rate, social_distancing_enabled, vaccination_start_day, compliance_rate, population):\n",
    "    model = EpidemicModel(population, 40, 40, infection_rate, recovery_rate, vaccination_start_day, compliance_rate)\n",
    "    model.social_distancing = social_distancing_enabled\n",
    "\n",
    "    while model.day < 100:\n",
    "        model.step()\n",
    "    data = model.datacollector.get_model_vars_dataframe()\n",
    "    plot_results(data, vaccination_start_day)"
   ]
  },
  {
   "cell_type": "code",
   "execution_count": 15,
   "id": "551dead6-c8a6-40cb-956e-65fdc525e5bb",
   "metadata": {},
   "outputs": [],
   "source": [
    "# Widgets for controlling parameters\n",
    "population_slider = widgets.IntSlider(value=300, min=100, max=1000, step=50, description='Population:')\n",
    "infection_rate_slider = widgets.FloatSlider(value=0.1, min=0.01, max=0.5, step=0.01, description='Infection Rate:')\n",
    "recovery_rate_slider = widgets.FloatSlider(value=0.05, min=0.01, max=0.5, step=0.01, description='Recovery Rate:')\n",
    "social_distancing_toggle = widgets.ToggleButton(value=False, description='Enable Social Distancing', button_style='success')\n",
    "vaccination_day_slider = widgets.IntSlider(value=50, min=1, max=100, step=1, description='Vaccination Start Day:')\n",
    "compliance_slider = widgets.FloatSlider(value=0.8, min=0.5, max=1.0, step=0.01, description='Compliance Rate:')\n",
    "ui = widgets.VBox([population_slider, infection_rate_slider, recovery_rate_slider, social_distancing_toggle, vaccination_day_slider, compliance_slider])\n",
    "out = widgets.interactive_output(interactive_model, {'infection_rate': infection_rate_slider, 'recovery_rate': recovery_rate_slider, 'social_distancing_enabled': social_distancing_toggle, 'vaccination_start_day': vaccination_day_slider, 'compliance_rate': compliance_slider, 'population': population_slider})"
   ]
  },
  {
   "cell_type": "code",
   "execution_count": 17,
   "id": "a5a7289b-63d6-4a24-a821-36684570105b",
   "metadata": {},
   "outputs": [
    {
     "data": {
      "application/vnd.jupyter.widget-view+json": {
       "model_id": "f4693ae896534078bf4cd786a96fb289",
       "version_major": 2,
       "version_minor": 0
      },
      "text/plain": [
       "VBox(children=(IntSlider(value=300, description='Population:', max=1000, min=100, step=50), FloatSlider(value=…"
      ]
     },
     "metadata": {},
     "output_type": "display_data"
    },
    {
     "data": {
      "application/vnd.jupyter.widget-view+json": {
       "model_id": "b4f1adfbb2b34943bc85bcd18978e833",
       "version_major": 2,
       "version_minor": 0
      },
      "text/plain": [
       "Output(outputs=({'output_type': 'display_data', 'data': {'application/vnd.plotly.v1+json': {'data': [{'line': …"
      ]
     },
     "metadata": {},
     "output_type": "display_data"
    }
   ],
   "source": [
    "display(ui, out)"
   ]
  },
  {
   "cell_type": "code",
   "execution_count": null,
   "id": "908f2077-dd7e-4c2b-bf73-0efbb4724953",
   "metadata": {},
   "outputs": [],
   "source": []
  }
 ],
 "metadata": {
  "kernelspec": {
   "display_name": "Python 3 (ipykernel)",
   "language": "python",
   "name": "python3"
  },
  "language_info": {
   "codemirror_mode": {
    "name": "ipython",
    "version": 3
   },
   "file_extension": ".py",
   "mimetype": "text/x-python",
   "name": "python",
   "nbconvert_exporter": "python",
   "pygments_lexer": "ipython3",
   "version": "3.11.7"
  }
 },
 "nbformat": 4,
 "nbformat_minor": 5
}
